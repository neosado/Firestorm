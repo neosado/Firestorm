{
 "metadata": {
  "language": "Julia",
  "name": "",
  "signature": "sha256:f2ff143d3dffbb67fa910232110edc757206fe1da2aab89a94a46564e0e2addd"
 },
 "nbformat": 3,
 "nbformat_minor": 0,
 "worksheets": [
  {
   "cells": [
    {
     "cell_type": "heading",
     "level": 1,
     "metadata": {},
     "source": [
      "Multi-Level Splitting"
     ]
    },
    {
     "cell_type": "code",
     "collapsed": false,
     "input": [
      "using PyPlot"
     ],
     "language": "python",
     "metadata": {},
     "outputs": []
    },
    {
     "cell_type": "code",
     "collapsed": false,
     "input": [
      "D = readdlm(\"logs/base.log\")\n",
      "x = map(x -> int(chop(x)), D[:, 2])\n",
      "y = map(x -> float(chop(x)), D[:, 4])\n",
      "plot(x, y)\n",
      "grid(true)\n",
      "ylim([1.1, 1.6])\n",
      ";"
     ],
     "language": "python",
     "metadata": {},
     "outputs": [
      {
       "ename": "LoadError",
       "evalue": "plot not defined\nwhile loading In[1], in expression starting on line 4",
       "output_type": "pyerr",
       "traceback": [
        "plot not defined\nwhile loading In[1], in expression starting on line 4",
        ""
       ]
      }
     ],
     "prompt_number": 1
    },
    {
     "cell_type": "code",
     "collapsed": false,
     "input": [
      "n = 100000\n",
      "\n",
      "\n",
      "files = [\"base1.log\", \"base2.log\", \"base3.log\", \"base4.log\", \"base5.log\", \"base6.log\", \"base7.log\", \"base8.log\", \"base9.log\", \"base10.log\"]\n",
      "\n",
      "inda = 0\n",
      "xa = zeros(1:1001)\n",
      "ya = zeros(1:1001)\n",
      "\n",
      "for file in files\n",
      "    D = readdlm(\"logs/$file\")\n",
      "    x = map(x -> int(chop(x)), D[:, 2])\n",
      "    y = map(x -> float(chop(x)), D[:, 4])\n",
      "    ind = findfirst(x .>= n)\n",
      "    plot(x[1:ind], y[1:ind], color = \"0.9\")\n",
      "\n",
      "    inda = ind\n",
      "    xa = x\n",
      "    ya += y\n",
      "end\n",
      "plot(xa[1:inda], ya[1:inda] / length(files), \"k-\")\n",
      "\n",
      "\n",
      "files = [\"split1.log\", \"split3.log\", \"split4.log\", \"split5.log\", \"split6.log\", \"split7.log\", \"split8.log\", \"split9.log\", \"split10.log\"]\n",
      "#files = [\"split1a1.log\", \"split1a2.log\", \"split1a3.log\", \"split1a4.log\", \"split1a5.log\", \"split1a6.log\", \"split1a7.log\", \"split1a8.log\", \"split1a9.log\", \"split1a10.log\"]\n",
      "\n",
      "inda = 0\n",
      "xa = zeros(1:1001)\n",
      "ya = zeros(1:1001)\n",
      "\n",
      "for file in files\n",
      "    D = readdlm(\"logs/$file\")\n",
      "    x = map(x -> int(chop(x)), D[:, 2])\n",
      "    y = map(x -> float(chop(x)), D[:, 4])\n",
      "    #y = D[:, 4]\n",
      "    ind = findfirst(x .>= n)\n",
      "    plot(x[1:ind], y[1:ind], \"c:\")\n",
      "\n",
      "    inda = ind\n",
      "    xa = x\n",
      "    ya += y[1:length(ya)]\n",
      "end\n",
      "plot(xa[1:inda], ya[1:inda] / length(files), \"b-\")\n",
      "\n",
      "\n",
      "files = [\"split2a1.log\", \"split2a2.log\", \"split2a3.log\", \"split2a4.log\", \"split2a5.log\", \"split2a6.log\", \"split2a7.log\", \"split2a8.log\", \"split2a9.log\", \"split2a10.log\"]\n",
      "#files = [\"split1a1.log\", \"split1a2.log\", \"split1a3.log\", \"split1a4.log\", \"split1a5.log\", \"split1a6.log\", \"split1a7.log\", \"split1a8.log\", \"split1a9.log\", \"split1a10.log\"]\n",
      "#files = [\"split1b1.log\", \"split1b2.log\", \"split1b3.log\", \"split1b4.log\", \"split1b5.log\", \"split1b6.log\", \"split1b7.log\", \"split1b8.log\", \"split1b9.log\", \"split1b10.log\"]\n",
      "\n",
      "inda = 0\n",
      "xa = zeros(1:1001)\n",
      "ya = zeros(1:1001)\n",
      "\n",
      "for file in files\n",
      "    D = readdlm(\"logs/$file\")\n",
      "    x = map(x -> int(chop(x)), D[:, 2])\n",
      "    #y = map(x -> float(chop(x)), D[:, 4])\n",
      "    y = D[:, 4]\n",
      "    ind = findfirst(x .>= n)\n",
      "    plot(x[1:ind], y[1:ind], \"m:\")\n",
      "\n",
      "    inda = ind\n",
      "    xa = x\n",
      "    ya += y[1:length(ya)]\n",
      "end\n",
      "plot(xa[1:inda], ya[1:inda] / length(files), \"r-\", alpha = 0.7)\n",
      "\n",
      "\n",
      "grid(true)\n",
      "#ylim([0.3, 2.3])\n",
      "ylim([1.1, 1.6])\n",
      "\n",
      "#savefig(\"multi_level_splitting.png\")\n",
      ";"
     ],
     "language": "python",
     "metadata": {},
     "outputs": []
    },
    {
     "cell_type": "code",
     "collapsed": false,
     "input": [],
     "language": "python",
     "metadata": {},
     "outputs": []
    }
   ],
   "metadata": {}
  }
 ]
}